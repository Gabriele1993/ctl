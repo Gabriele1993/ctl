{
  "cells": [
    {
      "metadata": {},
      "cell_type": "markdown",
      "source": "## Preamble\n\n### Are You in the Right Place?\n\nThe following is part of a multi-part introduction to data science for those in the legal profession. The full collection of materials can be found on the Suffolk LIT Lab's How To page under the heading [Demystify Data Science](http://suffolklitlab.org/howto/#demystified). If you've followed the instructions found at [Codifying Gut Decisions](http://suffolklitlab.org/howto/demystified/4/), you should have this notebook running as opposed to viewing a preview. That means that you can run the code fond below, not to mention, read and write files to your own copy of this library.\n\n### A Quick Test/How To\nTo run the code in a given cell (one of the gray boxes), make sure that it has focus (i.e., is highlighted by a bounding box), then click the \"Run\" button in the menu above. Alternatively, you can press `Shift+Enter`. To give a cell focus, just click on the cell. Lets give it a try. **Run the cell below.**"
    },
    {
      "metadata": {
        "trusted": true
      },
      "cell_type": "code",
      "source": "print(\"Yay! It worked.\")",
      "execution_count": 64,
      "outputs": [
        {
          "output_type": "stream",
          "text": "Yay! It worked.\n",
          "name": "stdout"
        }
      ]
    },
    {
      "metadata": {},
      "cell_type": "markdown",
      "source": "If the text \"Yay! It worked.\" appeared after the cell, it worked. Yay! FYI, you are welcome to join the LIT Lab's Slack Team. There you can ask and answer questions relating to this lesson under the [#howto-datasci](https://suffolklitlab.slack.com/messages/CAKMYBRL0/) channel. See the Lab's [How To](file:///H:/LITLab/SuffolkLITLab.github.io/howto/) for more. That being said, let's get to the main course. \n\nAs you come upon cells, run them. FYI, the text blocks are actual cells too. So it's perfectly reasonable to press `Shift+Enter` to move your way down the page. If you want to see how we format text, double click on one of the text blocks and you'll see something called [markdown](https://en.wikipedia.org/wiki/Markdown). You can set a cell to \"Code\" or \"Markdown\" in a pulldown menu above. We're not going to do anything with Markdown here, but I thought you'd like to know. Anywho, to convert the Markdown back to text, just run the cell.  "
    },
    {
      "metadata": {},
      "cell_type": "markdown",
      "source": "# The Classifier Challenge.\n\nFirst, let's load Pandas."
    },
    {
      "metadata": {
        "trusted": true
      },
      "cell_type": "code",
      "source": "import pandas as pd",
      "execution_count": 69,
      "outputs": []
    },
    {
      "metadata": {},
      "cell_type": "markdown",
      "source": "Now for the good stuff. The law firm of Dewey Cheatem and Howe is a medium sized personal injury firm, and they've provided you with two data files (people.csv and calls.csv). "
    },
    {
      "metadata": {
        "trusted": true
      },
      "cell_type": "code",
      "source": "# Note: you may need to edit the code below to deal with dates and the like. \n\npeople = pd.read_csv('people.csv') \ncalls = pd.read_csv('calls.csv') \n\ndisplay(people.head())\ndisplay(calls.head())\n\n\nsingle_table = people.merge(calls) \nprint (\"row count:\",len(single_table))\nsingle_table.head()\n\n",
      "execution_count": 66,
      "outputs": [
        {
          "output_type": "display_data",
          "data": {
            "text/html": "<div>\n<style>\n    .dataframe thead tr:only-child th {\n        text-align: right;\n    }\n\n    .dataframe thead th {\n        text-align: left;\n    }\n\n    .dataframe tbody tr th {\n        vertical-align: top;\n    }\n</style>\n<table border=\"1\" class=\"dataframe\">\n  <thead>\n    <tr style=\"text-align: right;\">\n      <th></th>\n      <th>Unnamed: 0</th>\n      <th>person_id</th>\n      <th>name</th>\n      <th>sex</th>\n      <th>date of birth</th>\n    </tr>\n  </thead>\n  <tbody>\n    <tr>\n      <th>0</th>\n      <td>0</td>\n      <td>100</td>\n      <td>Penelope Lewis</td>\n      <td>female</td>\n      <td>1990-08-31</td>\n    </tr>\n    <tr>\n      <th>1</th>\n      <td>1</td>\n      <td>101</td>\n      <td>David Anthony</td>\n      <td>male</td>\n      <td>1971-10-14</td>\n    </tr>\n    <tr>\n      <th>2</th>\n      <td>2</td>\n      <td>102</td>\n      <td>Ida Shipp</td>\n      <td>female</td>\n      <td>1962-05-24</td>\n    </tr>\n    <tr>\n      <th>3</th>\n      <td>3</td>\n      <td>103</td>\n      <td>Joanna Moore</td>\n      <td>female</td>\n      <td>2017-03-10</td>\n    </tr>\n    <tr>\n      <th>4</th>\n      <td>4</td>\n      <td>104</td>\n      <td>Lisandra Ortiz</td>\n      <td>female</td>\n      <td>2020-08-05</td>\n    </tr>\n  </tbody>\n</table>\n</div>",
            "text/plain": "   Unnamed: 0  person_id            name     sex date of birth\n0           0        100  Penelope Lewis  female    1990-08-31\n1           1        101   David Anthony    male    1971-10-14\n2           2        102       Ida Shipp  female    1962-05-24\n3           3        103    Joanna Moore  female    2017-03-10\n4           4        104  Lisandra Ortiz  female    2020-08-05"
          },
          "metadata": {}
        },
        {
          "output_type": "display_data",
          "data": {
            "text/html": "<div>\n<style>\n    .dataframe thead tr:only-child th {\n        text-align: right;\n    }\n\n    .dataframe thead th {\n        text-align: left;\n    }\n\n    .dataframe tbody tr th {\n        vertical-align: top;\n    }\n</style>\n<table border=\"1\" class=\"dataframe\">\n  <thead>\n    <tr style=\"text-align: right;\">\n      <th></th>\n      <th>Unnamed: 0</th>\n      <th>call_id</th>\n      <th>person_ID</th>\n      <th>Referal Soure</th>\n      <th>attorney</th>\n      <th>body_part_1</th>\n      <th>body_part_2</th>\n      <th>body_part_3</th>\n      <th>body_part_4</th>\n      <th>body_part_5</th>\n      <th>surgery</th>\n      <th>injury_date</th>\n      <th>intake</th>\n      <th>take</th>\n    </tr>\n  </thead>\n  <tbody>\n    <tr>\n      <th>0</th>\n      <td>0</td>\n      <td>136</td>\n      <td>100</td>\n      <td>Facebook</td>\n      <td>Patty Hewes</td>\n      <td>Head</td>\n      <td>NaN</td>\n      <td>NaN</td>\n      <td>NaN</td>\n      <td>NaN</td>\n      <td>yes</td>\n      <td>2015-11-27</td>\n      <td>2017-02-06</td>\n      <td>no</td>\n    </tr>\n    <tr>\n      <th>1</th>\n      <td>1</td>\n      <td>137</td>\n      <td>101</td>\n      <td>referal</td>\n      <td>Patty Hewes</td>\n      <td>hands</td>\n      <td>elbow</td>\n      <td>NaN</td>\n      <td>NaN</td>\n      <td>NaN</td>\n      <td>yes</td>\n      <td>2014-06-30</td>\n      <td>2017-02-07</td>\n      <td>No</td>\n    </tr>\n    <tr>\n      <th>2</th>\n      <td>2</td>\n      <td>138</td>\n      <td>102</td>\n      <td>NaN</td>\n      <td>Rachel Zane</td>\n      <td>hip</td>\n      <td>arm</td>\n      <td>foot/feet</td>\n      <td>NaN</td>\n      <td>NaN</td>\n      <td>NO</td>\n      <td>2016-04-22</td>\n      <td>2017-02-07</td>\n      <td>no</td>\n    </tr>\n    <tr>\n      <th>3</th>\n      <td>3</td>\n      <td>139</td>\n      <td>103</td>\n      <td>Google</td>\n      <td>Perry Mason</td>\n      <td>EYE</td>\n      <td>ankle</td>\n      <td>NaN</td>\n      <td>NaN</td>\n      <td>NaN</td>\n      <td>no</td>\n      <td>2015-08-12</td>\n      <td>2017-02-08</td>\n      <td>yes</td>\n    </tr>\n    <tr>\n      <th>4</th>\n      <td>4</td>\n      <td>140</td>\n      <td>104</td>\n      <td>website</td>\n      <td>Rusty Sabich</td>\n      <td>neck</td>\n      <td>NaN</td>\n      <td>NaN</td>\n      <td>NaN</td>\n      <td>NaN</td>\n      <td>YES</td>\n      <td>2016-12-28</td>\n      <td>2017-02-09</td>\n      <td>no</td>\n    </tr>\n  </tbody>\n</table>\n</div>",
            "text/plain": "   Unnamed: 0  call_id  person_ID Referal Soure      attorney body_part_1  \\\n0           0      136        100      Facebook   Patty Hewes        Head   \n1           1      137        101       referal   Patty Hewes       hands   \n2           2      138        102           NaN   Rachel Zane         hip   \n3           3      139        103        Google   Perry Mason         EYE   \n4           4      140        104       website  Rusty Sabich        neck   \n\n  body_part_2 body_part_3 body_part_4 body_part_5 surgery injury_date  \\\n0         NaN         NaN         NaN         NaN     yes  2015-11-27   \n1       elbow         NaN         NaN         NaN     yes  2014-06-30   \n2         arm   foot/feet         NaN         NaN      NO  2016-04-22   \n3       ankle         NaN         NaN         NaN      no  2015-08-12   \n4         NaN         NaN         NaN         NaN     YES  2016-12-28   \n\n       intake take  \n0  2017-02-06   no  \n1  2017-02-07   No  \n2  2017-02-07   no  \n3  2017-02-08  yes  \n4  2017-02-09   no  "
          },
          "metadata": {}
        },
        {
          "output_type": "stream",
          "text": "row count: 100000\n",
          "name": "stdout"
        },
        {
          "output_type": "execute_result",
          "execution_count": 66,
          "data": {
            "text/html": "<div>\n<style>\n    .dataframe thead tr:only-child th {\n        text-align: right;\n    }\n\n    .dataframe thead th {\n        text-align: left;\n    }\n\n    .dataframe tbody tr th {\n        vertical-align: top;\n    }\n</style>\n<table border=\"1\" class=\"dataframe\">\n  <thead>\n    <tr style=\"text-align: right;\">\n      <th></th>\n      <th>Unnamed: 0</th>\n      <th>person_id</th>\n      <th>name</th>\n      <th>sex</th>\n      <th>date of birth</th>\n      <th>call_id</th>\n      <th>person_ID</th>\n      <th>Referal Soure</th>\n      <th>attorney</th>\n      <th>body_part_1</th>\n      <th>body_part_2</th>\n      <th>body_part_3</th>\n      <th>body_part_4</th>\n      <th>body_part_5</th>\n      <th>surgery</th>\n      <th>injury_date</th>\n      <th>intake</th>\n      <th>take</th>\n    </tr>\n  </thead>\n  <tbody>\n    <tr>\n      <th>0</th>\n      <td>0</td>\n      <td>100</td>\n      <td>Penelope Lewis</td>\n      <td>female</td>\n      <td>1990-08-31</td>\n      <td>136</td>\n      <td>100</td>\n      <td>Facebook</td>\n      <td>Patty Hewes</td>\n      <td>Head</td>\n      <td>NaN</td>\n      <td>NaN</td>\n      <td>NaN</td>\n      <td>NaN</td>\n      <td>yes</td>\n      <td>2015-11-27</td>\n      <td>2017-02-06</td>\n      <td>no</td>\n    </tr>\n    <tr>\n      <th>1</th>\n      <td>1</td>\n      <td>101</td>\n      <td>David Anthony</td>\n      <td>male</td>\n      <td>1971-10-14</td>\n      <td>137</td>\n      <td>101</td>\n      <td>referal</td>\n      <td>Patty Hewes</td>\n      <td>hands</td>\n      <td>elbow</td>\n      <td>NaN</td>\n      <td>NaN</td>\n      <td>NaN</td>\n      <td>yes</td>\n      <td>2014-06-30</td>\n      <td>2017-02-07</td>\n      <td>No</td>\n    </tr>\n    <tr>\n      <th>2</th>\n      <td>2</td>\n      <td>102</td>\n      <td>Ida Shipp</td>\n      <td>female</td>\n      <td>1962-05-24</td>\n      <td>138</td>\n      <td>102</td>\n      <td>NaN</td>\n      <td>Rachel Zane</td>\n      <td>hip</td>\n      <td>arm</td>\n      <td>foot/feet</td>\n      <td>NaN</td>\n      <td>NaN</td>\n      <td>NO</td>\n      <td>2016-04-22</td>\n      <td>2017-02-07</td>\n      <td>no</td>\n    </tr>\n    <tr>\n      <th>3</th>\n      <td>3</td>\n      <td>103</td>\n      <td>Joanna Moore</td>\n      <td>female</td>\n      <td>2017-03-10</td>\n      <td>139</td>\n      <td>103</td>\n      <td>Google</td>\n      <td>Perry Mason</td>\n      <td>EYE</td>\n      <td>ankle</td>\n      <td>NaN</td>\n      <td>NaN</td>\n      <td>NaN</td>\n      <td>no</td>\n      <td>2015-08-12</td>\n      <td>2017-02-08</td>\n      <td>yes</td>\n    </tr>\n    <tr>\n      <th>4</th>\n      <td>4</td>\n      <td>104</td>\n      <td>Lisandra Ortiz</td>\n      <td>female</td>\n      <td>2020-08-05</td>\n      <td>140</td>\n      <td>104</td>\n      <td>website</td>\n      <td>Rusty Sabich</td>\n      <td>neck</td>\n      <td>NaN</td>\n      <td>NaN</td>\n      <td>NaN</td>\n      <td>NaN</td>\n      <td>YES</td>\n      <td>2016-12-28</td>\n      <td>2017-02-09</td>\n      <td>no</td>\n    </tr>\n  </tbody>\n</table>\n</div>",
            "text/plain": "   Unnamed: 0  person_id            name     sex date of birth  call_id  \\\n0           0        100  Penelope Lewis  female    1990-08-31      136   \n1           1        101   David Anthony    male    1971-10-14      137   \n2           2        102       Ida Shipp  female    1962-05-24      138   \n3           3        103    Joanna Moore  female    2017-03-10      139   \n4           4        104  Lisandra Ortiz  female    2020-08-05      140   \n\n   person_ID Referal Soure      attorney body_part_1 body_part_2 body_part_3  \\\n0        100      Facebook   Patty Hewes        Head         NaN         NaN   \n1        101       referal   Patty Hewes       hands       elbow         NaN   \n2        102           NaN   Rachel Zane         hip         arm   foot/feet   \n3        103        Google   Perry Mason         EYE       ankle         NaN   \n4        104       website  Rusty Sabich        neck         NaN         NaN   \n\n  body_part_4 body_part_5 surgery injury_date      intake take  \n0         NaN         NaN     yes  2015-11-27  2017-02-06   no  \n1         NaN         NaN     yes  2014-06-30  2017-02-07   No  \n2         NaN         NaN      NO  2016-04-22  2017-02-07   no  \n3         NaN         NaN      no  2015-08-12  2017-02-08  yes  \n4         NaN         NaN     YES  2016-12-28  2017-02-09   no  "
          },
          "metadata": {}
        }
      ]
    },
    {
      "metadata": {},
      "cell_type": "markdown",
      "source": "These files contain info on potential client calls, including info about the callers and whether or not the firm took the case (this last bit is in the column \"take\"). This challenge is called Codifying Gut Decisions beacue the decision to take a case is one the firm currently makes based on a gut feeling. You're job is to turn that process into an algorithm.\n\nYour mission should you choose to accept it: (1) clean the data; (2) do some feature engineering if you think it's needed; and (3) train a classifier that predicts if the firm will take a case. That is, predict when the `take` column would have a \"yes\" in it. \n\nI'll give an \"prize\" to the person who can build the best classifier (**Lab students only**), where the best is defined as the classifier with the highest F1 score when run on a set of new data that your model wasn't trained on. Namely, this data:"
    },
    {
      "metadata": {
        "trusted": true
      },
      "cell_type": "code",
      "source": "# Note: you may need to edit the code below to deal with dates and the like. \n# Also, there is no `take` column since that's what you're trying to predict. ;)\n\npeople_comp = pd.read_csv('z_people.csv') \ncalls_comp = pd.read_csv('z_calls.csv') \n\ndisplay(people_comp.head())\ndisplay(calls_comp.head())\n\nsingle_table = people_comp.merge(calls_comp) \nprint (\"row count:\",len(single_table))\nsingle_table.head()\n\n",
      "execution_count": 67,
      "outputs": [
        {
          "output_type": "display_data",
          "data": {
            "text/html": "<div>\n<style>\n    .dataframe thead tr:only-child th {\n        text-align: right;\n    }\n\n    .dataframe thead th {\n        text-align: left;\n    }\n\n    .dataframe tbody tr th {\n        vertical-align: top;\n    }\n</style>\n<table border=\"1\" class=\"dataframe\">\n  <thead>\n    <tr style=\"text-align: right;\">\n      <th></th>\n      <th>Unnamed: 0</th>\n      <th>person_id</th>\n      <th>name</th>\n      <th>sex</th>\n      <th>date of birth</th>\n    </tr>\n  </thead>\n  <tbody>\n    <tr>\n      <th>0</th>\n      <td>0</td>\n      <td>100</td>\n      <td>Jerry Filer</td>\n      <td>male</td>\n      <td>1999-06-29</td>\n    </tr>\n    <tr>\n      <th>1</th>\n      <td>1</td>\n      <td>101</td>\n      <td>Richard Myers</td>\n      <td>male</td>\n      <td>1965-11-26</td>\n    </tr>\n    <tr>\n      <th>2</th>\n      <td>2</td>\n      <td>102</td>\n      <td>Mable Bacon</td>\n      <td>female</td>\n      <td>1956-06-19</td>\n    </tr>\n    <tr>\n      <th>3</th>\n      <td>3</td>\n      <td>103</td>\n      <td>Debbie Harty</td>\n      <td>female</td>\n      <td>2024-02-23</td>\n    </tr>\n    <tr>\n      <th>4</th>\n      <td>4</td>\n      <td>104</td>\n      <td>Shirley Pena</td>\n      <td>female</td>\n      <td>2040-07-25</td>\n    </tr>\n  </tbody>\n</table>\n</div>",
            "text/plain": "   Unnamed: 0  person_id           name     sex date of birth\n0           0        100    Jerry Filer    male    1999-06-29\n1           1        101  Richard Myers    male    1965-11-26\n2           2        102    Mable Bacon  female    1956-06-19\n3           3        103   Debbie Harty  female    2024-02-23\n4           4        104   Shirley Pena  female    2040-07-25"
          },
          "metadata": {}
        },
        {
          "output_type": "display_data",
          "data": {
            "text/html": "<div>\n<style>\n    .dataframe thead tr:only-child th {\n        text-align: right;\n    }\n\n    .dataframe thead th {\n        text-align: left;\n    }\n\n    .dataframe tbody tr th {\n        vertical-align: top;\n    }\n</style>\n<table border=\"1\" class=\"dataframe\">\n  <thead>\n    <tr style=\"text-align: right;\">\n      <th></th>\n      <th>Unnamed: 0</th>\n      <th>call_id</th>\n      <th>person_ID</th>\n      <th>Referal Soure</th>\n      <th>attorney</th>\n      <th>body_part_1</th>\n      <th>body_part_2</th>\n      <th>body_part_3</th>\n      <th>body_part_4</th>\n      <th>body_part_5</th>\n      <th>surgery</th>\n      <th>injury_date</th>\n      <th>intake</th>\n    </tr>\n  </thead>\n  <tbody>\n    <tr>\n      <th>0</th>\n      <td>0</td>\n      <td>136</td>\n      <td>100</td>\n      <td>website</td>\n      <td>Atticus Finch</td>\n      <td>hand</td>\n      <td>Neck</td>\n      <td>NaN</td>\n      <td>NaN</td>\n      <td>NaN</td>\n      <td>no</td>\n      <td>2016-11-11</td>\n      <td>2017-05-22</td>\n    </tr>\n    <tr>\n      <th>1</th>\n      <td>1</td>\n      <td>137</td>\n      <td>101</td>\n      <td>referal</td>\n      <td>Perry Mason</td>\n      <td>Neck</td>\n      <td>NaN</td>\n      <td>NaN</td>\n      <td>NaN</td>\n      <td>NaN</td>\n      <td>yes</td>\n      <td>2015-05-09</td>\n      <td>2017-05-22</td>\n    </tr>\n    <tr>\n      <th>2</th>\n      <td>2</td>\n      <td>138</td>\n      <td>102</td>\n      <td>website</td>\n      <td>Rachel Zane</td>\n      <td>ankle</td>\n      <td>neck</td>\n      <td>hip</td>\n      <td>NaN</td>\n      <td>NaN</td>\n      <td>no</td>\n      <td>2016-11-10</td>\n      <td>2017-05-22</td>\n    </tr>\n    <tr>\n      <th>3</th>\n      <td>3</td>\n      <td>139</td>\n      <td>103</td>\n      <td>Other</td>\n      <td>Rusty Sabich</td>\n      <td>arm</td>\n      <td>NaN</td>\n      <td>NaN</td>\n      <td>NaN</td>\n      <td>NaN</td>\n      <td>no</td>\n      <td>2015-04-09</td>\n      <td>2017-05-22</td>\n    </tr>\n    <tr>\n      <th>4</th>\n      <td>4</td>\n      <td>140</td>\n      <td>104</td>\n      <td>NaN</td>\n      <td>NaN</td>\n      <td>neck</td>\n      <td>NaN</td>\n      <td>NaN</td>\n      <td>NaN</td>\n      <td>NaN</td>\n      <td>yes</td>\n      <td>2014-08-15</td>\n      <td>2017-05-23</td>\n    </tr>\n  </tbody>\n</table>\n</div>",
            "text/plain": "   Unnamed: 0  call_id  person_ID Referal Soure       attorney body_part_1  \\\n0           0      136        100       website  Atticus Finch        hand   \n1           1      137        101       referal    Perry Mason        Neck   \n2           2      138        102       website    Rachel Zane       ankle   \n3           3      139        103         Other   Rusty Sabich         arm   \n4           4      140        104           NaN            NaN        neck   \n\n  body_part_2 body_part_3 body_part_4 body_part_5 surgery injury_date  \\\n0        Neck         NaN         NaN         NaN      no  2016-11-11   \n1         NaN         NaN         NaN         NaN     yes  2015-05-09   \n2        neck         hip         NaN         NaN      no  2016-11-10   \n3         NaN         NaN         NaN         NaN      no  2015-04-09   \n4         NaN         NaN         NaN         NaN     yes  2014-08-15   \n\n       intake  \n0  2017-05-22  \n1  2017-05-22  \n2  2017-05-22  \n3  2017-05-22  \n4  2017-05-23  "
          },
          "metadata": {}
        },
        {
          "output_type": "stream",
          "text": "row count: 1000\n",
          "name": "stdout"
        },
        {
          "output_type": "execute_result",
          "execution_count": 67,
          "data": {
            "text/html": "<div>\n<style>\n    .dataframe thead tr:only-child th {\n        text-align: right;\n    }\n\n    .dataframe thead th {\n        text-align: left;\n    }\n\n    .dataframe tbody tr th {\n        vertical-align: top;\n    }\n</style>\n<table border=\"1\" class=\"dataframe\">\n  <thead>\n    <tr style=\"text-align: right;\">\n      <th></th>\n      <th>Unnamed: 0</th>\n      <th>person_id</th>\n      <th>name</th>\n      <th>sex</th>\n      <th>date of birth</th>\n      <th>call_id</th>\n      <th>person_ID</th>\n      <th>Referal Soure</th>\n      <th>attorney</th>\n      <th>body_part_1</th>\n      <th>body_part_2</th>\n      <th>body_part_3</th>\n      <th>body_part_4</th>\n      <th>body_part_5</th>\n      <th>surgery</th>\n      <th>injury_date</th>\n      <th>intake</th>\n    </tr>\n  </thead>\n  <tbody>\n    <tr>\n      <th>0</th>\n      <td>0</td>\n      <td>100</td>\n      <td>Jerry Filer</td>\n      <td>male</td>\n      <td>1999-06-29</td>\n      <td>136</td>\n      <td>100</td>\n      <td>website</td>\n      <td>Atticus Finch</td>\n      <td>hand</td>\n      <td>Neck</td>\n      <td>NaN</td>\n      <td>NaN</td>\n      <td>NaN</td>\n      <td>no</td>\n      <td>2016-11-11</td>\n      <td>2017-05-22</td>\n    </tr>\n    <tr>\n      <th>1</th>\n      <td>1</td>\n      <td>101</td>\n      <td>Richard Myers</td>\n      <td>male</td>\n      <td>1965-11-26</td>\n      <td>137</td>\n      <td>101</td>\n      <td>referal</td>\n      <td>Perry Mason</td>\n      <td>Neck</td>\n      <td>NaN</td>\n      <td>NaN</td>\n      <td>NaN</td>\n      <td>NaN</td>\n      <td>yes</td>\n      <td>2015-05-09</td>\n      <td>2017-05-22</td>\n    </tr>\n    <tr>\n      <th>2</th>\n      <td>2</td>\n      <td>102</td>\n      <td>Mable Bacon</td>\n      <td>female</td>\n      <td>1956-06-19</td>\n      <td>138</td>\n      <td>102</td>\n      <td>website</td>\n      <td>Rachel Zane</td>\n      <td>ankle</td>\n      <td>neck</td>\n      <td>hip</td>\n      <td>NaN</td>\n      <td>NaN</td>\n      <td>no</td>\n      <td>2016-11-10</td>\n      <td>2017-05-22</td>\n    </tr>\n    <tr>\n      <th>3</th>\n      <td>3</td>\n      <td>103</td>\n      <td>Debbie Harty</td>\n      <td>female</td>\n      <td>2024-02-23</td>\n      <td>139</td>\n      <td>103</td>\n      <td>Other</td>\n      <td>Rusty Sabich</td>\n      <td>arm</td>\n      <td>NaN</td>\n      <td>NaN</td>\n      <td>NaN</td>\n      <td>NaN</td>\n      <td>no</td>\n      <td>2015-04-09</td>\n      <td>2017-05-22</td>\n    </tr>\n    <tr>\n      <th>4</th>\n      <td>4</td>\n      <td>104</td>\n      <td>Shirley Pena</td>\n      <td>female</td>\n      <td>2040-07-25</td>\n      <td>140</td>\n      <td>104</td>\n      <td>NaN</td>\n      <td>NaN</td>\n      <td>neck</td>\n      <td>NaN</td>\n      <td>NaN</td>\n      <td>NaN</td>\n      <td>NaN</td>\n      <td>yes</td>\n      <td>2014-08-15</td>\n      <td>2017-05-23</td>\n    </tr>\n  </tbody>\n</table>\n</div>",
            "text/plain": "   Unnamed: 0  person_id           name     sex date of birth  call_id  \\\n0           0        100    Jerry Filer    male    1999-06-29      136   \n1           1        101  Richard Myers    male    1965-11-26      137   \n2           2        102    Mable Bacon  female    1956-06-19      138   \n3           3        103   Debbie Harty  female    2024-02-23      139   \n4           4        104   Shirley Pena  female    2040-07-25      140   \n\n   person_ID Referal Soure       attorney body_part_1 body_part_2 body_part_3  \\\n0        100       website  Atticus Finch        hand        Neck         NaN   \n1        101       referal    Perry Mason        Neck         NaN         NaN   \n2        102       website    Rachel Zane       ankle        neck         hip   \n3        103         Other   Rusty Sabich         arm         NaN         NaN   \n4        104           NaN            NaN        neck         NaN         NaN   \n\n  body_part_4 body_part_5 surgery injury_date      intake  \n0         NaN         NaN      no  2016-11-11  2017-05-22  \n1         NaN         NaN     yes  2015-05-09  2017-05-22  \n2         NaN         NaN      no  2016-11-10  2017-05-22  \n3         NaN         NaN      no  2015-04-09  2017-05-22  \n4         NaN         NaN     yes  2014-08-15  2017-05-23  "
          },
          "metadata": {}
        }
      ]
    },
    {
      "metadata": {},
      "cell_type": "markdown",
      "source": "Your models may use different features than your peer's. So to score your model I'll be asking you to provide a simple list of `call_id`s where your model predicts if the firm will take the case. That is, for the new data, provide a list of the cases you think the firm would take. This list should have each call_id seperated by a comma, and you can submit them here:\n\nhttps://docs.google.com/forms/d/e/1FAIpQLSemwYALjIlwluyd1JgY3tMgBK1Pz2kFyy5DnqGrgRDuhx7jPQ/viewform\n\n**Hint:** If you want to turn the column from a dataframe into a comma-seperated list, you can use the following syntax: "
    },
    {
      "metadata": {
        "trusted": true
      },
      "cell_type": "code",
      "source": "calls_comp[\"call_id\"].tolist()\n",
      "execution_count": 68,
      "outputs": [
        {
          "output_type": "execute_result",
          "execution_count": 68,
          "data": {
            "text/plain": "[136,\n 137,\n 138,\n 139,\n 140,\n 141,\n 142,\n 143,\n 144,\n 145,\n 146,\n 147,\n 148,\n 149,\n 150,\n 151,\n 152,\n 153,\n 154,\n 155,\n 156,\n 157,\n 158,\n 159,\n 160,\n 161,\n 162,\n 163,\n 164,\n 165,\n 166,\n 167,\n 168,\n 169,\n 170,\n 171,\n 172,\n 173,\n 174,\n 175,\n 176,\n 177,\n 178,\n 179,\n 180,\n 181,\n 182,\n 183,\n 184,\n 185,\n 186,\n 187,\n 188,\n 189,\n 190,\n 191,\n 192,\n 193,\n 194,\n 195,\n 196,\n 197,\n 198,\n 199,\n 200,\n 201,\n 202,\n 203,\n 204,\n 205,\n 206,\n 207,\n 208,\n 209,\n 210,\n 211,\n 212,\n 213,\n 214,\n 215,\n 216,\n 217,\n 218,\n 219,\n 220,\n 221,\n 222,\n 223,\n 224,\n 225,\n 226,\n 227,\n 228,\n 229,\n 230,\n 231,\n 232,\n 233,\n 234,\n 235,\n 236,\n 237,\n 238,\n 239,\n 240,\n 241,\n 242,\n 243,\n 244,\n 245,\n 246,\n 247,\n 248,\n 249,\n 250,\n 251,\n 252,\n 253,\n 254,\n 255,\n 256,\n 257,\n 258,\n 259,\n 260,\n 261,\n 262,\n 263,\n 264,\n 265,\n 266,\n 267,\n 268,\n 269,\n 270,\n 271,\n 272,\n 273,\n 274,\n 275,\n 276,\n 277,\n 278,\n 279,\n 280,\n 281,\n 282,\n 283,\n 284,\n 285,\n 286,\n 287,\n 288,\n 289,\n 290,\n 291,\n 292,\n 293,\n 294,\n 295,\n 296,\n 297,\n 298,\n 299,\n 300,\n 301,\n 302,\n 303,\n 304,\n 305,\n 306,\n 307,\n 308,\n 309,\n 310,\n 311,\n 312,\n 313,\n 314,\n 315,\n 316,\n 317,\n 318,\n 319,\n 320,\n 321,\n 322,\n 323,\n 324,\n 325,\n 326,\n 327,\n 328,\n 329,\n 330,\n 331,\n 332,\n 333,\n 334,\n 335,\n 336,\n 337,\n 338,\n 339,\n 340,\n 341,\n 342,\n 343,\n 344,\n 345,\n 346,\n 347,\n 348,\n 349,\n 350,\n 351,\n 352,\n 353,\n 354,\n 355,\n 356,\n 357,\n 358,\n 359,\n 360,\n 361,\n 362,\n 363,\n 364,\n 365,\n 366,\n 367,\n 368,\n 369,\n 370,\n 371,\n 372,\n 373,\n 374,\n 375,\n 376,\n 377,\n 378,\n 379,\n 380,\n 381,\n 382,\n 383,\n 384,\n 385,\n 386,\n 387,\n 388,\n 389,\n 390,\n 391,\n 392,\n 393,\n 394,\n 395,\n 396,\n 397,\n 398,\n 399,\n 400,\n 401,\n 402,\n 403,\n 404,\n 405,\n 406,\n 407,\n 408,\n 409,\n 410,\n 411,\n 412,\n 413,\n 414,\n 415,\n 416,\n 417,\n 418,\n 419,\n 420,\n 421,\n 422,\n 423,\n 424,\n 425,\n 426,\n 427,\n 428,\n 429,\n 430,\n 431,\n 432,\n 433,\n 434,\n 435,\n 436,\n 437,\n 438,\n 439,\n 440,\n 441,\n 442,\n 443,\n 444,\n 445,\n 446,\n 447,\n 448,\n 449,\n 450,\n 451,\n 452,\n 453,\n 454,\n 455,\n 456,\n 457,\n 458,\n 459,\n 460,\n 461,\n 462,\n 463,\n 464,\n 465,\n 466,\n 467,\n 468,\n 469,\n 470,\n 471,\n 472,\n 473,\n 474,\n 475,\n 476,\n 477,\n 478,\n 479,\n 480,\n 481,\n 482,\n 483,\n 484,\n 485,\n 486,\n 487,\n 488,\n 489,\n 490,\n 491,\n 492,\n 493,\n 494,\n 495,\n 496,\n 497,\n 498,\n 499,\n 500,\n 501,\n 502,\n 503,\n 504,\n 505,\n 506,\n 507,\n 508,\n 509,\n 510,\n 511,\n 512,\n 513,\n 514,\n 515,\n 516,\n 517,\n 518,\n 519,\n 520,\n 521,\n 522,\n 523,\n 524,\n 525,\n 526,\n 527,\n 528,\n 529,\n 530,\n 531,\n 532,\n 533,\n 534,\n 535,\n 536,\n 537,\n 538,\n 539,\n 540,\n 541,\n 542,\n 543,\n 544,\n 545,\n 546,\n 547,\n 548,\n 549,\n 550,\n 551,\n 552,\n 553,\n 554,\n 555,\n 556,\n 557,\n 558,\n 559,\n 560,\n 561,\n 562,\n 563,\n 564,\n 565,\n 566,\n 567,\n 568,\n 569,\n 570,\n 571,\n 572,\n 573,\n 574,\n 575,\n 576,\n 577,\n 578,\n 579,\n 580,\n 581,\n 582,\n 583,\n 584,\n 585,\n 586,\n 587,\n 588,\n 589,\n 590,\n 591,\n 592,\n 593,\n 594,\n 595,\n 596,\n 597,\n 598,\n 599,\n 600,\n 601,\n 602,\n 603,\n 604,\n 605,\n 606,\n 607,\n 608,\n 609,\n 610,\n 611,\n 612,\n 613,\n 614,\n 615,\n 616,\n 617,\n 618,\n 619,\n 620,\n 621,\n 622,\n 623,\n 624,\n 625,\n 626,\n 627,\n 628,\n 629,\n 630,\n 631,\n 632,\n 633,\n 634,\n 635,\n 636,\n 637,\n 638,\n 639,\n 640,\n 641,\n 642,\n 643,\n 644,\n 645,\n 646,\n 647,\n 648,\n 649,\n 650,\n 651,\n 652,\n 653,\n 654,\n 655,\n 656,\n 657,\n 658,\n 659,\n 660,\n 661,\n 662,\n 663,\n 664,\n 665,\n 666,\n 667,\n 668,\n 669,\n 670,\n 671,\n 672,\n 673,\n 674,\n 675,\n 676,\n 677,\n 678,\n 679,\n 680,\n 681,\n 682,\n 683,\n 684,\n 685,\n 686,\n 687,\n 688,\n 689,\n 690,\n 691,\n 692,\n 693,\n 694,\n 695,\n 696,\n 697,\n 698,\n 699,\n 700,\n 701,\n 702,\n 703,\n 704,\n 705,\n 706,\n 707,\n 708,\n 709,\n 710,\n 711,\n 712,\n 713,\n 714,\n 715,\n 716,\n 717,\n 718,\n 719,\n 720,\n 721,\n 722,\n 723,\n 724,\n 725,\n 726,\n 727,\n 728,\n 729,\n 730,\n 731,\n 732,\n 733,\n 734,\n 735,\n 736,\n 737,\n 738,\n 739,\n 740,\n 741,\n 742,\n 743,\n 744,\n 745,\n 746,\n 747,\n 748,\n 749,\n 750,\n 751,\n 752,\n 753,\n 754,\n 755,\n 756,\n 757,\n 758,\n 759,\n 760,\n 761,\n 762,\n 763,\n 764,\n 765,\n 766,\n 767,\n 768,\n 769,\n 770,\n 771,\n 772,\n 773,\n 774,\n 775,\n 776,\n 777,\n 778,\n 779,\n 780,\n 781,\n 782,\n 783,\n 784,\n 785,\n 786,\n 787,\n 788,\n 789,\n 790,\n 791,\n 792,\n 793,\n 794,\n 795,\n 796,\n 797,\n 798,\n 799,\n 800,\n 801,\n 802,\n 803,\n 804,\n 805,\n 806,\n 807,\n 808,\n 809,\n 810,\n 811,\n 812,\n 813,\n 814,\n 815,\n 816,\n 817,\n 818,\n 819,\n 820,\n 821,\n 822,\n 823,\n 824,\n 825,\n 826,\n 827,\n 828,\n 829,\n 830,\n 831,\n 832,\n 833,\n 834,\n 835,\n 836,\n 837,\n 838,\n 839,\n 840,\n 841,\n 842,\n 843,\n 844,\n 845,\n 846,\n 847,\n 848,\n 849,\n 850,\n 851,\n 852,\n 853,\n 854,\n 855,\n 856,\n 857,\n 858,\n 859,\n 860,\n 861,\n 862,\n 863,\n 864,\n 865,\n 866,\n 867,\n 868,\n 869,\n 870,\n 871,\n 872,\n 873,\n 874,\n 875,\n 876,\n 877,\n 878,\n 879,\n 880,\n 881,\n 882,\n 883,\n 884,\n 885,\n 886,\n 887,\n 888,\n 889,\n 890,\n 891,\n 892,\n 893,\n 894,\n 895,\n 896,\n 897,\n 898,\n 899,\n 900,\n 901,\n 902,\n 903,\n 904,\n 905,\n 906,\n 907,\n 908,\n 909,\n 910,\n 911,\n 912,\n 913,\n 914,\n 915,\n 916,\n 917,\n 918,\n 919,\n 920,\n 921,\n 922,\n 923,\n 924,\n 925,\n 926,\n 927,\n 928,\n 929,\n 930,\n 931,\n 932,\n 933,\n 934,\n 935,\n 936,\n 937,\n 938,\n 939,\n 940,\n 941,\n 942,\n 943,\n 944,\n 945,\n 946,\n 947,\n 948,\n 949,\n 950,\n 951,\n 952,\n 953,\n 954,\n 955,\n 956,\n 957,\n 958,\n 959,\n 960,\n 961,\n 962,\n 963,\n 964,\n 965,\n 966,\n 967,\n 968,\n 969,\n 970,\n 971,\n 972,\n 973,\n 974,\n 975,\n 976,\n 977,\n 978,\n 979,\n 980,\n 981,\n 982,\n 983,\n 984,\n 985,\n 986,\n 987,\n 988,\n 989,\n 990,\n 991,\n 992,\n 993,\n 994,\n 995,\n 996,\n 997,\n 998,\n 999,\n 1000,\n 1001,\n 1002,\n 1003,\n 1004,\n 1005,\n 1006,\n 1007,\n 1008,\n 1009,\n 1010,\n 1011,\n 1012,\n 1013,\n 1014,\n 1015,\n 1016,\n 1017,\n 1018,\n 1019,\n 1020,\n 1021,\n 1022,\n 1023,\n 1024,\n 1025,\n 1026,\n 1027,\n 1028,\n 1029,\n 1030,\n 1031,\n 1032,\n 1033,\n 1034,\n 1035,\n 1036,\n 1037,\n 1038,\n 1039,\n 1040,\n 1041,\n 1042,\n 1043,\n 1044,\n 1045,\n 1046,\n 1047,\n 1048,\n 1049,\n 1050,\n 1051,\n 1052,\n 1053,\n 1054,\n 1055,\n 1056,\n 1057,\n 1058,\n 1059,\n 1060,\n 1061,\n 1062,\n 1063,\n 1064,\n 1065,\n 1066,\n 1067,\n 1068,\n 1069,\n 1070,\n 1071,\n 1072,\n 1073,\n 1074,\n 1075,\n 1076,\n 1077,\n 1078,\n 1079,\n 1080,\n 1081,\n 1082,\n 1083,\n 1084,\n 1085,\n 1086,\n 1087,\n 1088,\n 1089,\n 1090,\n 1091,\n 1092,\n 1093,\n 1094,\n 1095,\n 1096,\n 1097,\n 1098,\n 1099,\n 1100,\n 1101,\n 1102,\n 1103,\n 1104,\n 1105,\n 1106,\n 1107,\n 1108,\n 1109,\n 1110,\n 1111,\n 1112,\n 1113,\n 1114,\n 1115,\n 1116,\n 1117,\n 1118,\n 1119,\n 1120,\n 1121,\n 1122,\n 1123,\n 1124,\n 1125,\n 1126,\n 1127,\n 1128,\n 1129,\n 1130,\n 1131,\n 1132,\n 1133,\n 1134,\n 1135]"
          },
          "metadata": {}
        }
      ]
    },
    {
      "metadata": {},
      "cell_type": "markdown",
      "source": "Have fun, and good luck. Who knows, maybe you'll walk away with this sweet certificate of achievement.\n\n![certificate of achievement](http://suffolklitlab.org/howto/demystified/images/certificate_w_placeholder.png) \n"
    },
    {
      "metadata": {
        "trusted": true
      },
      "cell_type": "code",
      "source": "",
      "execution_count": null,
      "outputs": []
    }
  ],
  "metadata": {
    "kernelspec": {
      "name": "python36",
      "display_name": "Python 3.6",
      "language": "python"
    },
    "language_info": {
      "mimetype": "text/x-python",
      "nbconvert_exporter": "python",
      "name": "python",
      "pygments_lexer": "ipython3",
      "version": "3.6.6",
      "file_extension": ".py",
      "codemirror_mode": {
        "version": 3,
        "name": "ipython"
      }
    }
  },
  "nbformat": 4,
  "nbformat_minor": 2
}